{
 "cells": [
  {
   "cell_type": "markdown",
   "metadata": {},
   "source": [
    "# 1. Prepare data"
   ]
  },
  {
   "cell_type": "markdown",
   "metadata": {},
   "source": [
    "## Set working directory"
   ]
  },
  {
   "cell_type": "code",
   "execution_count": null,
   "metadata": {},
   "outputs": [],
   "source": [
    "import os\n",
    "\n",
    "# Check current directory\n",
    "os.getcwd()\n",
    "\n",
    "# Change directory if necessary\n",
    "#os.chdir('/Desktop/specparam/') "
   ]
  },
  {
   "cell_type": "markdown",
   "metadata": {},
   "source": [
    "# 2. Fitting group power spectra"
   ]
  },
  {
   "cell_type": "markdown",
   "metadata": {},
   "source": [
    "## Check specparam version"
   ]
  },
  {
   "cell_type": "code",
   "execution_count": null,
   "metadata": {},
   "outputs": [],
   "source": [
    "import fooof\n",
    "print(fooof.__version__)"
   ]
  },
  {
   "cell_type": "markdown",
   "metadata": {},
   "source": [
    "## Load Python libraries"
   ]
  },
  {
   "cell_type": "code",
   "execution_count": 4,
   "metadata": {},
   "outputs": [],
   "source": [
    "import pandas as pd\n",
    "import numpy as np\n",
    "import sys\n",
    "import os\n",
    "import matplotlib\n",
    "import tqdm\n",
    "import pytest\n",
    "\n",
    "from fooof import FOOOFGroup\n",
    "from fooof.bands import Bands\n",
    "from fooof.analysis import get_band_peak_fg\n",
    "from fooof.plts.periodic import plot_peak_fits, plot_peak_params\n",
    "from fooof.plts.aperiodic import plot_aperiodic_params, plot_aperiodic_fits"
   ]
  },
  {
   "cell_type": "markdown",
   "metadata": {},
   "source": [
    "## Load group PSDs"
   ]
  },
  {
   "cell_type": "code",
   "execution_count": null,
   "metadata": {},
   "outputs": [],
   "source": [
    "# Load .CSV files with vector of frequencies (\"freqs.csv\") and participant x frequencies matrix (\"eopPSDs.csv\")\n",
    "freqs=   np.ravel(pd.read_csv(\"freqs.csv\"))                                                             \n",
    "spectra= np.array(pd.read_csv(\"eopPSDs.csv\"))  \n",
    "\n",
    "# Check shape of both objects. \n",
    "print(freqs.shape)\n",
    "print(spectra.shape)"
   ]
  },
  {
   "cell_type": "markdown",
   "metadata": {},
   "source": [
    "## Fit PSD"
   ]
  },
  {
   "cell_type": "code",
   "execution_count": null,
   "metadata": {},
   "outputs": [],
   "source": [
    "# Adjust settings for spectral parameterization\n",
    "fg= FOOOFGroup(peak_width_limits= [1, 8], max_n_peaks= 8, min_peak_height= 0.05, verbose='False')  \n",
    "         \n",
    "# Fit group PSDs over 1-50 Hz range      \n",
    "fg.fit(freqs, spectra, [1, 50]) \n",
    "fg.print_results()"
   ]
  },
  {
   "cell_type": "markdown",
   "metadata": {},
   "source": [
    "## Save fit information"
   ]
  },
  {
   "cell_type": "code",
   "execution_count": null,
   "metadata": {},
   "outputs": [],
   "source": [
    "fg.save_report('EOP_demo')                                                                             \n",
    "fg.plot(save_fig= True, file_name= \"EOP_demo\")"
   ]
  },
  {
   "cell_type": "markdown",
   "metadata": {},
   "source": [
    "## Extract periodic and aperiodic parameters"
   ]
  },
  {
   "cell_type": "code",
   "execution_count": null,
   "metadata": {},
   "outputs": [],
   "source": [
    "# Extract aperiodic and full periodic parameters\n",
    "fg_aps=   fg.get_params('aperiodic_params')                                                           \n",
    "fg_peaks= fg.get_params('peak_params')                                                                \n",
    "\n",
    "# Extract group fit information \n",
    "fg_errors= fg.get_params('error')                                                                      \n",
    "fg_r2s=    fg.get_params('r_squared')                                                                  \n",
    "\n",
    "# Define canonical frequency bands \n",
    "bands= Bands({'delta':[1, 4], 'theta':[4, 8], 'alpha':[8, 13], 'beta':[13, 30], 'gamma':[30, 50]})    \n",
    "\n",
    "# Extract band-limited peaks information as Python objects\n",
    "deltas= get_band_peak_fg(fg, bands.delta)                                                             \n",
    "thetas= get_band_peak_fg(fg, bands.theta)                                                              \n",
    "alphas= get_band_peak_fg(fg, bands.alpha)                                                              \n",
    "betas= get_band_peak_fg(fg, bands.beta)                                                                    \n",
    "gammas= get_band_peak_fg(fg, bands.gamma) "
   ]
  },
  {
   "cell_type": "markdown",
   "metadata": {},
   "source": [
    "# 3. Plot model components"
   ]
  },
  {
   "cell_type": "code",
   "execution_count": null,
   "metadata": {},
   "outputs": [],
   "source": []
  },
  {
   "cell_type": "markdown",
   "metadata": {},
   "source": [
    "## Save as CSV"
   ]
  },
  {
   "cell_type": "code",
   "execution_count": 13,
   "metadata": {},
   "outputs": [],
   "source": [
    "#aperiodic= pd.DataFrame(fg_aps)\n",
    "#aperiodic.to_csv('Py_group_aperiodics.csv')\n",
    "#\n",
    "#periodic= pd.DataFrame(fg_peaks)\n",
    "#periodic.to_csv('Py_group_periodics.csv')\n",
    "#\n",
    "#errors= pd.DataFrame(fg_errors)\n",
    "#spectra.to_csv('Py_group_errors.csv')\n",
    "#\n",
    "#r2s= pd.DataFrame(fg_r2s)\n",
    "#spectra.to_csv('Py_group_r2s.csv'"
   ]
  },
  {
   "cell_type": "code",
   "execution_count": null,
   "metadata": {},
   "outputs": [],
   "source": []
  }
 ],
 "metadata": {
  "kernelspec": {
   "display_name": "Python 3",
   "language": "python",
   "name": "python3"
  },
  "language_info": {
   "codemirror_mode": {
    "name": "ipython",
    "version": 3
   },
   "file_extension": ".py",
   "mimetype": "text/x-python",
   "name": "python",
   "nbconvert_exporter": "python",
   "pygments_lexer": "ipython3",
   "version": "3.8.5"
  }
 },
 "nbformat": 4,
 "nbformat_minor": 2
}

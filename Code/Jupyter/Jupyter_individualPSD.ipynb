{
 "cells": [
  {
   "cell_type": "markdown",
   "metadata": {},
   "source": [
    "# Fitting an Individual Power Spectrum\n",
    "\n",
    "In this example, we will fit an individual power spectrum model."
   ]
  },
  {
   "cell_type": "markdown",
   "metadata": {},
   "source": [
    "## Load Python libraries\n",
    "\n",
    "First, we will load the Python modules we need for this example."
   ]
  },
  {
   "cell_type": "code",
   "execution_count": 1,
   "metadata": {},
   "outputs": [],
   "source": [
    "# Import some useful standard library modules\n",
    "import os\n",
    "from pathlib import Path\n",
    "\n",
    "# Import some general scientific python libraries\n",
    "import numpy as np\n",
    "import pandas as pd\n",
    "\n",
    "# Import the parameterization model object\n",
    "from fooof import FOOOF"
   ]
  },
  {
   "cell_type": "markdown",
   "metadata": {},
   "source": [
    "### Check specparam version"
   ]
  },
  {
   "cell_type": "code",
   "execution_count": 2,
   "metadata": {},
   "outputs": [
    {
     "name": "stdout",
     "output_type": "stream",
     "text": [
      "1.0.0\n"
     ]
    }
   ],
   "source": [
    "import fooof\n",
    "print(fooof.__version__)"
   ]
  },
  {
   "cell_type": "markdown",
   "metadata": {},
   "source": [
    "## Set data path\n",
    "\n",
    "Next, we can set the path to where the data is available."
   ]
  },
  {
   "cell_type": "code",
   "execution_count": 3,
   "metadata": {},
   "outputs": [
    {
     "data": {
      "text/plain": [
       "'/Users/tom/Code/ModCode/param_repos/DevDemo/Code/Jupyter'"
      ]
     },
     "execution_count": 3,
     "metadata": {},
     "output_type": "execute_result"
    }
   ],
   "source": [
    "# Check working directory\n",
    "os.getcwd()"
   ]
  },
  {
   "cell_type": "code",
   "execution_count": 4,
   "metadata": {},
   "outputs": [],
   "source": [
    "# Set the data path to load from\n",
    "data_path = Path('../../Data/')"
   ]
  },
  {
   "cell_type": "markdown",
   "metadata": {},
   "source": [
    "## Load invididual PSD\n",
    "\n",
    "Load CSV files, including:\n",
    "- `freqs.csv`, which contains a vector of frequencies\n",
    "- `indvPSD.csv`, which contains the power values for an individual power spectrum"
   ]
  },
  {
   "cell_type": "code",
   "execution_count": 5,
   "metadata": {},
   "outputs": [],
   "source": [
    "# Load data\n",
    "freqs = np.ravel(pd.read_csv(data_path / \"freqs.csv\"))                                                             \n",
    "spectrum = np.ravel(pd.read_csv(data_path / \"indvPSD.csv\"))  "
   ]
  },
  {
   "cell_type": "code",
   "execution_count": 6,
   "metadata": {},
   "outputs": [
    {
     "name": "stdout",
     "output_type": "stream",
     "text": [
      "(50,)\n",
      "(50,)\n"
     ]
    }
   ],
   "source": [
    "# Check shapes of loaded data\n",
    "print(freqs.shape)\n",
    "print(spectrum.shape)"
   ]
  },
  {
   "cell_type": "markdown",
   "metadata": {},
   "source": [
    "## Parameterize a power spectrum\n",
    "\n",
    "Now we can parameterize our power spectrum!"
   ]
  },
  {
   "cell_type": "code",
   "execution_count": 7,
   "metadata": {},
   "outputs": [],
   "source": [
    "# Initialize a model object for spectral parameterization, with some settings \n",
    "fm = FOOOF(peak_width_limits= [1, 8], max_n_peaks= 8, min_peak_height= 0.05, verbose=False)  "
   ]
  },
  {
   "cell_type": "code",
   "execution_count": 8,
   "metadata": {},
   "outputs": [
    {
     "name": "stdout",
     "output_type": "stream",
     "text": [
      "==================================================================================================\n",
      "                                                                                                  \n",
      "                                   FOOOF - POWER SPECTRUM MODEL                                   \n",
      "                                                                                                  \n",
      "                        The model was run on the frequency range 2 - 30 Hz                        \n",
      "                                 Frequency Resolution is 1.00 Hz                                  \n",
      "                                                                                                  \n",
      "                            Aperiodic Parameters (offset, exponent):                              \n",
      "                                          1.9150, 1.7822                                          \n",
      "                                                                                                  \n",
      "                                       2 peaks were found:                                        \n",
      "                                CF:  10.21, PW:  1.284, BW:  3.13                                 \n",
      "                                CF:  19.43, PW:  0.303, BW:  2.20                                 \n",
      "                                                                                                  \n",
      "                                     Goodness of fit metrics:                                     \n",
      "                                    R^2 of model fit is 0.9863                                    \n",
      "                                    Error of the fit is 0.0661                                    \n",
      "                                                                                                  \n",
      "==================================================================================================\n"
     ]
    },
    {
     "data": {
      "image/png": "[encoded data removed]",
      "text/plain": [
       "<Figure size 720x576 with 1 Axes>"
      ]
     },
     "metadata": {
      "needs_background": "light"
     },
     "output_type": "display_data"
    }
   ],
   "source": [
    "# Fit individual PSD over 1-30 Hz range      \n",
    "fm.report(freqs, spectrum, [2, 30])"
   ]
  },
  {
   "cell_type": "code",
   "execution_count": 9,
   "metadata": {},
   "outputs": [],
   "source": [
    "# Save out a copy of the model fit report\n",
    "fm.save_report('INDV_demo')\n",
    "\n",
    "# The following line can also be used to save out the model plot\n",
    "#fm.plot(save_fig=True, file_name=\"INDV_demo\")"
   ]
  },
  {
   "cell_type": "markdown",
   "metadata": {},
   "source": [
    "## Access model fit information\n",
    "\n",
    "All of the model fit information is saved to the model object. \n",
    "\n",
    "Note that all attributes learned in the model fit process have a trailing underscore. "
   ]
  },
  {
   "cell_type": "code",
   "execution_count": 10,
   "metadata": {},
   "outputs": [
    {
     "name": "stdout",
     "output_type": "stream",
     "text": [
      "Aperiodic parameters: \n",
      " [1.91498762 1.78217891] \n",
      "\n",
      "Peak parameters: \n",
      " [[10.20629741  1.284451    3.12864068]\n",
      " [19.42705933  0.30269383  2.19509516]] \n",
      "\n",
      "Goodness of fit:\n",
      "Error -  0.06605727179840666\n",
      "R^2   -  0.9863407949050128 \n",
      "\n",
      "Number of fit peaks: \n",
      " 2\n"
     ]
    }
   ],
   "source": [
    "# Access the model fit parameters from the model object\n",
    "print('Aperiodic parameters: \\n', fm.aperiodic_params_, '\\n')\n",
    "print('Peak parameters: \\n', fm.peak_params_, '\\n')\n",
    "print('Goodness of fit:')\n",
    "print('Error - ', fm.error_)\n",
    "print('R^2   - ', fm.r_squared_, '\\n')\n",
    "print('Number of fit peaks: \\n', fm.n_peaks_)"
   ]
  },
  {
   "cell_type": "markdown",
   "metadata": {},
   "source": [
    "## Extract periodic and aperiodic parameters\n",
    "\n",
    "Another way to access model fit parameters is to use the `get_params` method, which can be used to access model fit attributes. "
   ]
  },
  {
   "cell_type": "code",
   "execution_count": 11,
   "metadata": {},
   "outputs": [],
   "source": [
    "# Extract aperiodic and full periodic parameter\n",
    "aps = fm.get_params('aperiodic_params')\n",
    "peaks = fm.get_params('peak_params')"
   ]
  },
  {
   "cell_type": "code",
   "execution_count": 12,
   "metadata": {},
   "outputs": [],
   "source": [
    "# Extract goodness of fit information \n",
    "error = fm.get_params('error')\n",
    "r2 = fm.get_params('r_squared')"
   ]
  },
  {
   "cell_type": "code",
   "execution_count": 13,
   "metadata": {},
   "outputs": [],
   "source": [
    "# Extract specific parameters\n",
    "exp = fm.get_params('aperiodic_params', 'exponent')   \n",
    "cfs = fm.get_params('peak_params', 'CF')"
   ]
  },
  {
   "cell_type": "markdown",
   "metadata": {},
   "source": [
    "## Save files\n",
    "\n",
    "The model object also has I/O utilities for saving and reloading data. \n",
    "\n",
    "The `save` method can be used to save out data from the object, specifying which information to save. "
   ]
  },
  {
   "cell_type": "code",
   "execution_count": 14,
   "metadata": {},
   "outputs": [],
   "source": [
    "# Save out the settings used to fit the model\n",
    "fm.save('fit_settings', save_settings=True)"
   ]
  },
  {
   "cell_type": "code",
   "execution_count": 15,
   "metadata": {},
   "outputs": [],
   "source": [
    "# Save out the results of the model fit\n",
    "fm.save('fit_results', save_results=True)"
   ]
  },
  {
   "cell_type": "code",
   "execution_count": 16,
   "metadata": {},
   "outputs": [],
   "source": [
    "# Save out a copy of the data used to fit the model\n",
    "fm.save('fit_data', save_data=True)"
   ]
  },
  {
   "cell_type": "markdown",
   "metadata": {},
   "source": [
    "## Reload \n",
    "\n",
    "We can also check our saved out results by reloading them. "
   ]
  },
  {
   "cell_type": "code",
   "execution_count": 17,
   "metadata": {},
   "outputs": [],
   "source": [
    "# Reload the saved out model result\n",
    "nfm = FOOOF()\n",
    "nfm.load('fit_results')"
   ]
  },
  {
   "cell_type": "code",
   "execution_count": 18,
   "metadata": {},
   "outputs": [
    {
     "name": "stdout",
     "output_type": "stream",
     "text": [
      "==================================================================================================\n",
      "                                                                                                  \n",
      "                                   FOOOF - POWER SPECTRUM MODEL                                   \n",
      "                                                                                                  \n",
      "                        The model was run on the frequency range 2 - 30 Hz                        \n",
      "                                 Frequency Resolution is 1.00 Hz                                  \n",
      "                                                                                                  \n",
      "                            Aperiodic Parameters (offset, exponent):                              \n",
      "                                          1.9150, 1.7822                                          \n",
      "                                                                                                  \n",
      "                                       2 peaks were found:                                        \n",
      "                                CF:  10.21, PW:  1.284, BW:  3.13                                 \n",
      "                                CF:  19.43, PW:  0.303, BW:  2.20                                 \n",
      "                                                                                                  \n",
      "                                     Goodness of fit metrics:                                     \n",
      "                                    R^2 of model fit is 0.9863                                    \n",
      "                                    Error of the fit is 0.0661                                    \n",
      "                                                                                                  \n",
      "==================================================================================================\n"
     ]
    }
   ],
   "source": [
    "# Check the results of the reloaded model fit\n",
    "nfm.print_results()"
   ]
  }
 ],
 "metadata": {
  "kernelspec": {
   "display_name": "Python 3",
   "language": "python",
   "name": "python3"
  },
  "language_info": {
   "codemirror_mode": {
    "name": "ipython",
    "version": 3
   },
   "file_extension": ".py",
   "mimetype": "text/x-python",
   "name": "python",
   "nbconvert_exporter": "python",
   "pygments_lexer": "ipython3",
   "version": "3.8.3"
  }
 },
 "nbformat": 4,
 "nbformat_minor": 2
}

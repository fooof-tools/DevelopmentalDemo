{
 "cells": [
  {
   "cell_type": "markdown",
   "metadata": {},
   "source": [
    "# 1. Prepare data"
   ]
  },
  {
   "cell_type": "markdown",
   "metadata": {},
   "source": [
    "## Set working directory"
   ]
  },
  {
   "cell_type": "code",
   "execution_count": null,
   "metadata": {},
   "outputs": [],
   "source": [
    "import os\n",
    "\n",
    "# Check working directory\n",
    "os.getcwd()\n",
    "\n",
    "# Change working directory \n",
    "#os.chdir('/Desktop/specparam/') "
   ]
  },
  {
   "cell_type": "markdown",
   "metadata": {},
   "source": [
    "# Fitting individual power spectrum"
   ]
  },
  {
   "cell_type": "markdown",
   "metadata": {},
   "source": [
    "## Check specparam version"
   ]
  },
  {
   "cell_type": "code",
   "execution_count": null,
   "metadata": {},
   "outputs": [],
   "source": [
    "import fooof\n",
    "print(fooof.__version__)"
   ]
  },
  {
   "cell_type": "markdown",
   "metadata": {},
   "source": [
    "## Load Python libraries"
   ]
  },
  {
   "cell_type": "code",
   "execution_count": 2,
   "metadata": {},
   "outputs": [],
   "source": [
    "import pandas as pd\n",
    "import numpy as np\n",
    "import sys\n",
    "import matplotlib\n",
    "import tqdm\n",
    "import pytest\n",
    "\n",
    "from fooof import FOOOF"
   ]
  },
  {
   "cell_type": "markdown",
   "metadata": {},
   "source": [
    "## Load invididual PSD"
   ]
  },
  {
   "cell_type": "code",
   "execution_count": null,
   "metadata": {},
   "outputs": [],
   "source": [
    "# Load .CSV files with vector of frequencies (\"freqs.csv\") and participant x frequencies matrix (\"eopPSDs.csv\")\n",
    "freqs= np.ravel(pd.read_csv(\"freqs.csv\"))                                                             \n",
    "spectrum= np.ravel(pd.read_csv(\"indvPSD.csv\"))  \n",
    "\n",
    "# Check shape of both objects. \n",
    "print(freqs.shape)\n",
    "print(spectrum.shape)"
   ]
  },
  {
   "cell_type": "markdown",
   "metadata": {},
   "source": [
    "## Fit PSD"
   ]
  },
  {
   "cell_type": "code",
   "execution_count": null,
   "metadata": {},
   "outputs": [],
   "source": [
    "# Adjust settings for spectral parameterization\n",
    "fm= FOOOF(peak_width_limits= [1, 8], max_n_peaks= 8, min_peak_height= 0.05)  \n",
    "         \n",
    "# Fit individual PSD over 1-30 Hz range      \n",
    "fm.report(freqs, spectrum, [1, 30])\n",
    "\n",
    "fm.save_report('INDV_demo')\n",
    "fm.plot(save_fig= True, file_name= \"INDV_demo\")"
   ]
  },
  {
   "cell_type": "markdown",
   "metadata": {},
   "source": [
    "## Print model fit information"
   ]
  },
  {
   "cell_type": "code",
   "execution_count": null,
   "metadata": {},
   "outputs": [],
   "source": [
    "print('Aperiodic parameters: \\n', fm.aperiodic_params_, '\\n')\n",
    "print('Peak parameters: \\n', fm.peak_params_, '\\n')\n",
    "print('Goodness of fit:')\n",
    "print('Error - ', fm.error_)\n",
    "print('R^2   - ', fm.r_squared_, '\\n')\n",
    "print('Number of fit peaks: \\n', fm.n_peaks_)"
   ]
  },
  {
   "cell_type": "markdown",
   "metadata": {},
   "source": [
    "## Extract periodic and aperiodic parameters"
   ]
  },
  {
   "cell_type": "code",
   "execution_count": 21,
   "metadata": {},
   "outputs": [],
   "source": [
    "# Extract aperiodic and full periodic parameter\n",
    "fm_aps= fm.get_params('aperiodic_params')\n",
    "fm_peaks= fm.get_params('peak_params')\n",
    "fm_spec= fm.fooofed_spectrum_[1:30]\n",
    "\n",
    "# Extract group fit information \n",
    "fm_errors= fm.get_params('error')\n",
    "fm_r2s= fm.get_params('r_squared')\n",
    "\n",
    "# Extract specific parameters\n",
    "fm_exp= fm.get_params('aperiodic_params', 'exponent')   \n",
    "fm_cfs= fm.get_params('peak_params', 'CF')"
   ]
  },
  {
   "cell_type": "markdown",
   "metadata": {},
   "source": [
    "## Save files"
   ]
  },
  {
   "cell_type": "code",
   "execution_count": 23,
   "metadata": {},
   "outputs": [],
   "source": [
    "# Save as JSON files\n",
    "fm.save(fm_aps)\n",
    "fm.save(fm_peaks)\n",
    "fm.save(fm_spec)\n",
    "\n",
    "\n",
    "# Save as CSV files\n",
    "aperiodic= pd.DataFrame(fm_aps)\n",
    "aperiodic.to_csv('Py_aperiodic.csv')\n",
    "\n",
    "periodic= pd.DataFrame(fm_peaks)\n",
    "periodic.to_csv('Py_periodic.csv')\n",
    "\n",
    "spectrum= pd.DataFrame(fm_spec)\n",
    "spectrum.to_csv('Py_spectrum.csv')"
   ]
  }
 ],
 "metadata": {
  "kernelspec": {
   "display_name": "Python 3",
   "language": "python",
   "name": "python3"
  },
  "language_info": {
   "codemirror_mode": {
    "name": "ipython",
    "version": 3
   },
   "file_extension": ".py",
   "mimetype": "text/x-python",
   "name": "python",
   "nbconvert_exporter": "python",
   "pygments_lexer": "ipython3",
   "version": "3.8.5"
  }
 },
 "nbformat": 4,
 "nbformat_minor": 2
}
